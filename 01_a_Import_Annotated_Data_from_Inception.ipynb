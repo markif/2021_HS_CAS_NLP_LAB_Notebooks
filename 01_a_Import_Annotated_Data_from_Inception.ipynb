{
 "cells": [
  {
   "cell_type": "markdown",
   "metadata": {},
   "source": [
    "<img align=\"right\" width=\"400\" src=\"https://www.fhnw.ch/de/++theme++web16theme/assets/media/img/fachhochschule-nordwestschweiz-fhnw-logo.svg\" alt=\"FHNW Logo\">\n",
    "\n",
    "\n",
    "# Import Annotated Data from Inception\n",
    "\n",
    "by Fabian Märki\n",
    "\n",
    "## Summary\n",
    "The aim of this notebook is to show how annotated data (through [Inception](https://inception-project.github.io)) can be imported into a Jupyter Notebook.  \n",
    "\n",
    "### Links\n",
    "- https://inception-project.github.io/example-projects/python/\n",
    "- https://inception-project.github.io/releases/21.1/docs/user-guide.html#sect_formats_uimaxmi\n",
    "\n",
    "This notebook does not contain assigments: <font color='red'>Enjoy.</font>\n",
    "\n",
    "<a href=\"https://colab.research.google.com/github/markif/2021_HS_CAS_NLP_LAB_Notebooks/blob/master/01_a_Import_Annotated_Data_from_Inception.ipynb\">\n",
    "  <img align=\"left\" src=\"https://colab.research.google.com/assets/colab-badge.svg\" alt=\"Open In Colab\"/>\n",
    "</a>"
   ]
  },
  {
   "cell_type": "code",
   "execution_count": 1,
   "metadata": {},
   "outputs": [],
   "source": [
    "%%capture\n",
    "\n",
    "!pip install 'fhnw-nlp-utils>=0.2.13,<0.3.0'\n",
    "\n",
    "from fhnw.nlp.utils.storage import download\n",
    "from fhnw.nlp.utils.storage import save_dataframe\n",
    "\n",
    "\n",
    "import pandas as pd\n",
    "import numpy as np"
   ]
  },
  {
   "cell_type": "code",
   "execution_count": 2,
   "metadata": {},
   "outputs": [
    {
     "name": "stdout",
     "output_type": "stream",
     "text": [
      "OS name: posix\n",
      "Platform name: Linux\n",
      "Platform release: 5.11.0-40-generic\n",
      "Python version: 3.6.9\n",
      "Tensorflow version: 2.5.1\n",
      "GPU is available\n"
     ]
    }
   ],
   "source": [
    "from fhnw.nlp.utils.system import system_info\n",
    "print(system_info())"
   ]
  },
  {
   "cell_type": "markdown",
   "metadata": {},
   "source": [
    "You would need to download the annotated data exported as **UIMA CAS XMI (XML 1.0)** from your Inception server.\n",
    "\n",
    "Let's use a prepared dataset that is stored in the cloud."
   ]
  },
  {
   "cell_type": "code",
   "execution_count": 3,
   "metadata": {},
   "outputs": [],
   "source": [
    "import zipfile\n",
    "\n",
    "download(\"https://drive.google.com/uc?id=1HJ1TDDcyD2STQjn_QwkyjzAJxhBRae8X\", \"data/german_doctor_reviews_annotated_text.zip\")\n",
    "\n",
    "with zipfile.ZipFile(\"data/german_doctor_reviews_annotated_text.zip\",\"r\") as zip_ref:\n",
    "    zip_ref.extractall(\"data\")"
   ]
  },
  {
   "cell_type": "markdown",
   "metadata": {},
   "source": [
    "Extract the data..."
   ]
  },
  {
   "cell_type": "code",
   "execution_count": 4,
   "metadata": {},
   "outputs": [
    {
     "name": "stdout",
     "output_type": "stream",
     "text": [
      "Requirement already satisfied: dkpro-cassis in /usr/local/lib/python3.6/dist-packages (0.6.1)\n",
      "Requirement already satisfied: toposort==1.6 in /usr/local/lib/python3.6/dist-packages (from dkpro-cassis) (1.6)\n",
      "Requirement already satisfied: importlib-resources==5.2.* in /usr/local/lib/python3.6/dist-packages (from dkpro-cassis) (5.2.3)\n",
      "Requirement already satisfied: more-itertools==8.8.* in /usr/local/lib/python3.6/dist-packages (from dkpro-cassis) (8.8.0)\n",
      "Requirement already satisfied: sortedcontainers==2.4.* in /usr/local/lib/python3.6/dist-packages (from dkpro-cassis) (2.4.0)\n",
      "Requirement already satisfied: deprecation==2.1.* in /usr/local/lib/python3.6/dist-packages (from dkpro-cassis) (2.1.0)\n",
      "Requirement already satisfied: lxml==4.6.* in /usr/local/lib/python3.6/dist-packages (from dkpro-cassis) (4.6.4)\n",
      "Requirement already satisfied: attrs==21.2.* in /usr/local/lib/python3.6/dist-packages (from dkpro-cassis) (21.2.0)\n",
      "Requirement already satisfied: zipp>=3.1.0; python_version < \"3.10\" in /usr/local/lib/python3.6/dist-packages (from importlib-resources==5.2.*->dkpro-cassis) (3.5.0)\n",
      "Requirement already satisfied: packaging in /usr/local/lib/python3.6/dist-packages (from deprecation==2.1.*->dkpro-cassis) (21.0)\n",
      "Requirement already satisfied: pyparsing>=2.0.2 in /usr/local/lib/python3.6/dist-packages (from packaging->deprecation==2.1.*->dkpro-cassis) (2.4.7)\n",
      "\u001b[33mWARNING: You are using pip version 20.2.4; however, version 21.3.1 is available.\n",
      "You should consider upgrading via the '/usr/bin/python3 -m pip install --upgrade pip' command.\u001b[0m\n"
     ]
    }
   ],
   "source": [
    "!pip install dkpro-cassis"
   ]
  },
  {
   "cell_type": "code",
   "execution_count": 5,
   "metadata": {},
   "outputs": [],
   "source": [
    "from cassis import *\n",
    "\n",
    "with open(\"data/TypeSystem.xml\", \"rb\") as f:\n",
    "    typesystem = load_typesystem(f)\n",
    "    \n",
    "with open(\"data/german_doctor_reviews.xmi\", \"rb\") as f:\n",
    "    doc = load_cas_from_xmi(f, typesystem=typesystem)\n",
    "    \n",
    "# Since Sentiment is a sentence-level annotation in INCEpTION, we get\n",
    "# one annotation per sentence. So we can simply iterate over the \n",
    "# Sentiment annotations and write its polarity and the covered text\n",
    "# to the output file\n",
    "with open(\"data/german_doctor_reviews.csv\", \"w\") as f:\n",
    "    for sentiment in doc.select(\"webanno.custom.Sentiment\"):\n",
    "        f.write(f\"{sentiment.Polarity}\\t{sentiment.get_covered_text()}\\n\")"
   ]
  },
  {
   "cell_type": "markdown",
   "metadata": {},
   "source": [
    "Load the data into a Pandas DataFrame..."
   ]
  },
  {
   "cell_type": "code",
   "execution_count": 6,
   "metadata": {},
   "outputs": [],
   "source": [
    "data = pd.read_csv(\"data/german_doctor_reviews.csv\", sep=\"\\t\", header=None, names=[\"label\", \"text\"])"
   ]
  },
  {
   "cell_type": "code",
   "execution_count": 7,
   "metadata": {},
   "outputs": [
    {
     "data": {
      "text/html": [
       "<div>\n",
       "<style scoped>\n",
       "    .dataframe tbody tr th:only-of-type {\n",
       "        vertical-align: middle;\n",
       "    }\n",
       "\n",
       "    .dataframe tbody tr th {\n",
       "        vertical-align: top;\n",
       "    }\n",
       "\n",
       "    .dataframe thead th {\n",
       "        text-align: right;\n",
       "    }\n",
       "</style>\n",
       "<table border=\"1\" class=\"dataframe\">\n",
       "  <thead>\n",
       "    <tr style=\"text-align: right;\">\n",
       "      <th></th>\n",
       "      <th>label</th>\n",
       "      <th>text</th>\n",
       "    </tr>\n",
       "  </thead>\n",
       "  <tbody>\n",
       "    <tr>\n",
       "      <th>0</th>\n",
       "      <td>Very Negative</td>\n",
       "      <td>Dies ist eine schlechter Arzt.</td>\n",
       "    </tr>\n",
       "    <tr>\n",
       "      <th>1</th>\n",
       "      <td>Very Positive</td>\n",
       "      <td>Dies ist ein super Arzt. Ich bin sehr zufrieden.</td>\n",
       "    </tr>\n",
       "  </tbody>\n",
       "</table>\n",
       "</div>"
      ],
      "text/plain": [
       "           label                                              text\n",
       "0  Very Negative                    Dies ist eine schlechter Arzt.\n",
       "1  Very Positive  Dies ist ein super Arzt. Ich bin sehr zufrieden."
      ]
     },
     "execution_count": 7,
     "metadata": {},
     "output_type": "execute_result"
    }
   ],
   "source": [
    "data.head(3)"
   ]
  },
  {
   "cell_type": "markdown",
   "metadata": {},
   "source": [
    "### Setup Sentiment"
   ]
  },
  {
   "cell_type": "markdown",
   "metadata": {},
   "source": [
    "Bring it in line with the original data which contains a **rating** row with the characteristics:\n",
    "- 1 = Very Positive\n",
    "- 2 = Positive\n",
    "- 3 = Neutral\n",
    "- 4 = Negative\n",
    "- 5 = Very Negative\n",
    "\n",
    "which might be a bit counterintuitive (I would have expected that a higher number represents a better review - the more stars the better)."
   ]
  },
  {
   "cell_type": "code",
   "execution_count": 8,
   "metadata": {},
   "outputs": [],
   "source": [
    "data[\"rating\"] = 1\n",
    "data.loc[data[\"label\"] == \"Positive\", \"rating\"] = 2\n",
    "data.loc[data[\"label\"] == \"Neutral\", \"rating\"] = 3\n",
    "data.loc[data[\"label\"] == \"Negative\", \"rating\"] = 4\n",
    "data.loc[data[\"label\"] == \"Very Negative\", \"rating\"] = 5"
   ]
  },
  {
   "cell_type": "markdown",
   "metadata": {},
   "source": [
    "The classification should recognize if a comment has a positive or negative sentiment. Let's assume that a good rating (1-2) caries a positive message whereas a low rating (5-6) caries a negative one (later we will exclude neutral ratings, i.e. the task becomes a binary classification)."
   ]
  },
  {
   "cell_type": "code",
   "execution_count": 9,
   "metadata": {},
   "outputs": [],
   "source": [
    "data[\"label\"] = \"positive\"\n",
    "data.loc[data[\"rating\"] >= 3, \"label\"] = \"neutral\"\n",
    "data.loc[data[\"rating\"] >= 5, \"label\"] = \"negative\"\n",
    "\n",
    "data[\"sentiment\"] = data[\"label\"].apply(lambda x: 1 if x == \"positive\" else (-1 if x == \"negative\" else 0))\n",
    "data = data.astype({\"sentiment\": \"int32\"})"
   ]
  },
  {
   "cell_type": "code",
   "execution_count": 10,
   "metadata": {},
   "outputs": [
    {
     "data": {
      "text/html": [
       "<div>\n",
       "<style scoped>\n",
       "    .dataframe tbody tr th:only-of-type {\n",
       "        vertical-align: middle;\n",
       "    }\n",
       "\n",
       "    .dataframe tbody tr th {\n",
       "        vertical-align: top;\n",
       "    }\n",
       "\n",
       "    .dataframe thead th {\n",
       "        text-align: right;\n",
       "    }\n",
       "</style>\n",
       "<table border=\"1\" class=\"dataframe\">\n",
       "  <thead>\n",
       "    <tr style=\"text-align: right;\">\n",
       "      <th></th>\n",
       "      <th>label</th>\n",
       "      <th>text</th>\n",
       "      <th>rating</th>\n",
       "      <th>sentiment</th>\n",
       "    </tr>\n",
       "  </thead>\n",
       "  <tbody>\n",
       "    <tr>\n",
       "      <th>0</th>\n",
       "      <td>negative</td>\n",
       "      <td>Dies ist eine schlechter Arzt.</td>\n",
       "      <td>5</td>\n",
       "      <td>-1</td>\n",
       "    </tr>\n",
       "    <tr>\n",
       "      <th>1</th>\n",
       "      <td>positive</td>\n",
       "      <td>Dies ist ein super Arzt. Ich bin sehr zufrieden.</td>\n",
       "      <td>1</td>\n",
       "      <td>1</td>\n",
       "    </tr>\n",
       "  </tbody>\n",
       "</table>\n",
       "</div>"
      ],
      "text/plain": [
       "      label                                              text  rating  \\\n",
       "0  negative                    Dies ist eine schlechter Arzt.       5   \n",
       "1  positive  Dies ist ein super Arzt. Ich bin sehr zufrieden.       1   \n",
       "\n",
       "   sentiment  \n",
       "0         -1  \n",
       "1          1  "
      ]
     },
     "execution_count": 10,
     "metadata": {},
     "output_type": "execute_result"
    }
   ],
   "source": [
    "data.head(3)"
   ]
  },
  {
   "cell_type": "code",
   "execution_count": 11,
   "metadata": {},
   "outputs": [],
   "source": [
    "save_dataframe(data, \"data/german_doctor_reviews_annotated.parq\")"
   ]
  },
  {
   "cell_type": "code",
   "execution_count": null,
   "metadata": {},
   "outputs": [],
   "source": []
  }
 ],
 "metadata": {
  "kernelspec": {
   "display_name": "Python 3",
   "language": "python",
   "name": "python3"
  },
  "language_info": {
   "codemirror_mode": {
    "name": "ipython",
    "version": 3
   },
   "file_extension": ".py",
   "mimetype": "text/x-python",
   "name": "python",
   "nbconvert_exporter": "python",
   "pygments_lexer": "ipython3",
   "version": "3.6.9"
  }
 },
 "nbformat": 4,
 "nbformat_minor": 2
}
