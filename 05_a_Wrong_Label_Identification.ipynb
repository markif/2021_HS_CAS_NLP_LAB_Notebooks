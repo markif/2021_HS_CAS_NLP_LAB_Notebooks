{
 "cells": [
  {
   "cell_type": "markdown",
   "metadata": {},
   "source": [
    "<img align=\"right\" width=\"400\" src=\"https://www.fhnw.ch/de/++theme++web16theme/assets/media/img/fachhochschule-nordwestschweiz-fhnw-logo.svg\" alt=\"FHNW Logo\">\n",
    "\n",
    "\n",
    "# Wrong Label Identification\n",
    "\n",
    "by Fabian Märki\n",
    "\n",
    "## Summary\n",
    "The aim of this notebook is check if it is possible to automatically identify wrong labeled text data.\n",
    "\n",
    "There is always an uncertainty about the quality of training data. This quality is one of the key factors that influence the prediction capabilities of a model. This notebook is an attempt to show how wrong labels can be identified.   \n",
    "\n",
    "## Sources\n",
    "- [cleanlab](https://pypi.org/project/cleanlab)\n",
    "- [Cleanlab: A Python Package for ML and Deep Learning on Datasets with Label Errors](https://l7.curtisnorthcutt.com/cleanlab-python-package)\n",
    "- [Find Label Issues with Confident Learning for NLP](https://www.depends-on-the-definition.com/confident-learning-for-nlp)\n",
    "- [An Introduction to Confident Learning: Finding and Learning with Label Errors in Datasets](https://l7.curtisnorthcutt.com/confident-learning)\n",
    "\n",
    "This notebook does not contain assigments: <font color='red'>Enjoy.</font>\n",
    "\n",
    "<a href=\"https://colab.research.google.com/github/markif/2021_HS_DAS_NLP_Notebooks/blob/master/05_a_Wrong_Label_Identification.ipynb\">\n",
    "  <img align=\"left\" src=\"https://colab.research.google.com/assets/colab-badge.svg\" alt=\"Open In Colab\"/>\n",
    "</a>"
   ]
  },
  {
   "cell_type": "code",
   "execution_count": 1,
   "metadata": {},
   "outputs": [],
   "source": [
    "%%capture\n",
    "\n",
    "!pip install 'fhnw-nlp-utils>=0.2.13,<0.3.0'\n",
    "\n",
    "from fhnw.nlp.utils.storage import download\n",
    "from fhnw.nlp.utils.storage import load_dataframe\n",
    "\n",
    "\n",
    "import pandas as pd\n",
    "import numpy as np"
   ]
  },
  {
   "cell_type": "code",
   "execution_count": 2,
   "metadata": {},
   "outputs": [
    {
     "name": "stdout",
     "output_type": "stream",
     "text": [
      "OS name: posix\n",
      "Platform name: Linux\n",
      "Platform release: 5.11.0-40-generic\n",
      "Python version: 3.6.9\n",
      "Tensorflow version: 2.5.1\n",
      "GPU is available\n"
     ]
    }
   ],
   "source": [
    "from fhnw.nlp.utils.system import system_info\n",
    "print(system_info())"
   ]
  },
  {
   "cell_type": "code",
   "execution_count": 3,
   "metadata": {},
   "outputs": [
    {
     "name": "stdout",
     "output_type": "stream",
     "text": [
      "CPU times: user 7.75 s, sys: 1.48 s, total: 9.23 s\n",
      "Wall time: 5.28 s\n"
     ]
    },
    {
     "data": {
      "text/plain": [
       "(350087, 10)"
      ]
     },
     "execution_count": 3,
     "metadata": {},
     "output_type": "execute_result"
    }
   ],
   "source": [
    "%%time\n",
    "download(\"https://drive.google.com/uc?id=19AFeVnOfX8WXU4_3rM7OFoNTWWog_sb_\", \"data/german_doctor_reviews_tokenized.parq\")\n",
    "data = load_dataframe(\"data/german_doctor_reviews_tokenized.parq\")\n",
    "data.shape"
   ]
  },
  {
   "cell_type": "code",
   "execution_count": 4,
   "metadata": {},
   "outputs": [
    {
     "data": {
      "text/html": [
       "<div>\n",
       "<style scoped>\n",
       "    .dataframe tbody tr th:only-of-type {\n",
       "        vertical-align: middle;\n",
       "    }\n",
       "\n",
       "    .dataframe tbody tr th {\n",
       "        vertical-align: top;\n",
       "    }\n",
       "\n",
       "    .dataframe thead th {\n",
       "        text-align: right;\n",
       "    }\n",
       "</style>\n",
       "<table border=\"1\" class=\"dataframe\">\n",
       "  <thead>\n",
       "    <tr style=\"text-align: right;\">\n",
       "      <th></th>\n",
       "      <th>text_original</th>\n",
       "      <th>rating</th>\n",
       "      <th>text</th>\n",
       "      <th>label</th>\n",
       "      <th>sentiment</th>\n",
       "      <th>token_clean</th>\n",
       "      <th>text_clean</th>\n",
       "      <th>token_lemma</th>\n",
       "      <th>token_stem</th>\n",
       "      <th>token_clean_stopwords</th>\n",
       "    </tr>\n",
       "  </thead>\n",
       "  <tbody>\n",
       "    <tr>\n",
       "      <th>0</th>\n",
       "      <td>Ich bin franzose und bin seit ein paar Wochen ...</td>\n",
       "      <td>2.0</td>\n",
       "      <td>Ich bin franzose und bin seit ein paar Wochen ...</td>\n",
       "      <td>positive</td>\n",
       "      <td>1</td>\n",
       "      <td>[ich, bin, franzose, und, bin, seit, ein, paar...</td>\n",
       "      <td>ich bin franzose und bin seit ein paar wochen ...</td>\n",
       "      <td>[franzose, seit, paar, wochen, muenchen, zahn,...</td>\n",
       "      <td>[franzos, seit, paar, woch, muench, ., zahn, s...</td>\n",
       "      <td>[franzose, seit, paar, wochen, muenchen, ., za...</td>\n",
       "    </tr>\n",
       "    <tr>\n",
       "      <th>1</th>\n",
       "      <td>Dieser Arzt ist das unmöglichste was mir in me...</td>\n",
       "      <td>6.0</td>\n",
       "      <td>Dieser Arzt ist das unmöglichste was mir in me...</td>\n",
       "      <td>negative</td>\n",
       "      <td>-1</td>\n",
       "      <td>[dieser, arzt, ist, das, unmöglichste, was, mi...</td>\n",
       "      <td>dieser arzt ist das unmöglichste was mir in me...</td>\n",
       "      <td>[arzt, unmöglichste, leben, je, begegnen, unfr...</td>\n",
       "      <td>[arzt, unmog, leb, je, begegnet, unfreund, ,, ...</td>\n",
       "      <td>[arzt, unmöglichste, leben, je, begegnet, unfr...</td>\n",
       "    </tr>\n",
       "    <tr>\n",
       "      <th>2</th>\n",
       "      <td>Hatte akute Beschwerden am Rücken. Herr Magura...</td>\n",
       "      <td>1.0</td>\n",
       "      <td>Hatte akute Beschwerden am Rücken. Herr Magura...</td>\n",
       "      <td>positive</td>\n",
       "      <td>1</td>\n",
       "      <td>[hatte, akute, beschwerden, am, rücken, ., her...</td>\n",
       "      <td>hatte akute beschwerden am rücken . herr magur...</td>\n",
       "      <td>[akut, beschwerden, rücken, magura, erste, arz...</td>\n",
       "      <td>[akut, beschwerd, ruck, ., magura, erst, arzt,...</td>\n",
       "      <td>[akute, beschwerden, rücken, ., magura, erste,...</td>\n",
       "    </tr>\n",
       "  </tbody>\n",
       "</table>\n",
       "</div>"
      ],
      "text/plain": [
       "                                       text_original  rating  \\\n",
       "0  Ich bin franzose und bin seit ein paar Wochen ...     2.0   \n",
       "1  Dieser Arzt ist das unmöglichste was mir in me...     6.0   \n",
       "2  Hatte akute Beschwerden am Rücken. Herr Magura...     1.0   \n",
       "\n",
       "                                                text     label  sentiment  \\\n",
       "0  Ich bin franzose und bin seit ein paar Wochen ...  positive          1   \n",
       "1  Dieser Arzt ist das unmöglichste was mir in me...  negative         -1   \n",
       "2  Hatte akute Beschwerden am Rücken. Herr Magura...  positive          1   \n",
       "\n",
       "                                         token_clean  \\\n",
       "0  [ich, bin, franzose, und, bin, seit, ein, paar...   \n",
       "1  [dieser, arzt, ist, das, unmöglichste, was, mi...   \n",
       "2  [hatte, akute, beschwerden, am, rücken, ., her...   \n",
       "\n",
       "                                          text_clean  \\\n",
       "0  ich bin franzose und bin seit ein paar wochen ...   \n",
       "1  dieser arzt ist das unmöglichste was mir in me...   \n",
       "2  hatte akute beschwerden am rücken . herr magur...   \n",
       "\n",
       "                                         token_lemma  \\\n",
       "0  [franzose, seit, paar, wochen, muenchen, zahn,...   \n",
       "1  [arzt, unmöglichste, leben, je, begegnen, unfr...   \n",
       "2  [akut, beschwerden, rücken, magura, erste, arz...   \n",
       "\n",
       "                                          token_stem  \\\n",
       "0  [franzos, seit, paar, woch, muench, ., zahn, s...   \n",
       "1  [arzt, unmog, leb, je, begegnet, unfreund, ,, ...   \n",
       "2  [akut, beschwerd, ruck, ., magura, erst, arzt,...   \n",
       "\n",
       "                               token_clean_stopwords  \n",
       "0  [franzose, seit, paar, wochen, muenchen, ., za...  \n",
       "1  [arzt, unmöglichste, leben, je, begegnet, unfr...  \n",
       "2  [akute, beschwerden, rücken, ., magura, erste,...  "
      ]
     },
     "execution_count": 4,
     "metadata": {},
     "output_type": "execute_result"
    }
   ],
   "source": [
    "data.head(3)"
   ]
  },
  {
   "cell_type": "code",
   "execution_count": 5,
   "metadata": {},
   "outputs": [
    {
     "data": {
      "text/plain": [
       "(331187, 10)"
      ]
     },
     "execution_count": 5,
     "metadata": {},
     "output_type": "execute_result"
    }
   ],
   "source": [
    "# remove all neutral sentimens\n",
    "data = data.loc[(data[\"label\"] != \"neutral\")]\n",
    "data.shape"
   ]
  },
  {
   "cell_type": "code",
   "execution_count": null,
   "metadata": {},
   "outputs": [],
   "source": []
  },
  {
   "cell_type": "code",
   "execution_count": 6,
   "metadata": {},
   "outputs": [],
   "source": [
    "# set rating to wrong values\n",
    "data.at[1,\"sentiment\"] = 1\n",
    "data.at[1,\"label\"] = \"positive\"\n",
    "data.at[19,\"sentiment\"] = 1\n",
    "data.at[19,\"label\"] = \"positive\"\n",
    "# data.at[357895,\"rating\"] = -1\n",
    "# data.at[357895,\"sentiment\"] = \"negative\"\n",
    "# data.at[357896,\"rating\"] = -1\n",
    "# data.at[357896,\"sentiment\"] = \"negative\"\n",
    "\n",
    "data[\"wrong_label\"] = 0\n",
    "data.at[1,\"wrong_label\"] = 1\n",
    "data.at[19,\"wrong_label\"] = 1\n",
    "#data.at[357895,\"wrong_label\"] = 1\n",
    "#data.at[357896,\"wrong_label\"] = 1"
   ]
  },
  {
   "cell_type": "code",
   "execution_count": null,
   "metadata": {},
   "outputs": [],
   "source": []
  },
  {
   "cell_type": "markdown",
   "metadata": {},
   "source": [
    "This time we use all data for training."
   ]
  },
  {
   "cell_type": "code",
   "execution_count": 7,
   "metadata": {},
   "outputs": [],
   "source": [
    "X_train, y_train = data[\"token_lemma\"], data[\"label\"]"
   ]
  },
  {
   "cell_type": "code",
   "execution_count": null,
   "metadata": {},
   "outputs": [],
   "source": []
  },
  {
   "cell_type": "markdown",
   "metadata": {},
   "source": [
    "### Base Classifier\n",
    "\n",
    "We need a trained classifier. Let's use our base classifier..."
   ]
  },
  {
   "cell_type": "code",
   "execution_count": 8,
   "metadata": {},
   "outputs": [
    {
     "name": "stdout",
     "output_type": "stream",
     "text": [
      "CPU times: user 263 ms, sys: 55.3 ms, total: 318 ms\n",
      "Wall time: 291 ms\n"
     ]
    }
   ],
   "source": [
    "%%time\n",
    "\n",
    "from sklearn.feature_extraction.text import CountVectorizer\n",
    "from sklearn.feature_extraction.text import TfidfTransformer\n",
    "from sklearn.linear_model import SGDClassifier\n",
    "from sklearn.pipeline import Pipeline\n",
    "from sklearn.calibration import CalibratedClassifierCV\n",
    "\n",
    "pipe = Pipeline([\n",
    "         (\"vec\", CountVectorizer(ngram_range=(1, 2), tokenizer=lambda x: x,preprocessor=lambda x: x, stop_words=None)),\n",
    "         ('tfidf', TfidfTransformer()),\n",
    "         (\"clf\", CalibratedClassifierCV(base_estimator=SGDClassifier(alpha=5.3e-06), cv=5, method='isotonic'))\n",
    "        ])"
   ]
  },
  {
   "cell_type": "code",
   "execution_count": 9,
   "metadata": {},
   "outputs": [],
   "source": [
    "best_params = {\n",
    "    #\"clf__alpha\": 5.3e-06, \n",
    "    \"tfidf__norm\": \"l2\", \n",
    "    \"tfidf__sublinear_tf\": True, \n",
    "    \"tfidf__use_idf\": True, \n",
    "    \"vec__max_df\": 0.5, \n",
    "    \"vec__min_df\": 0.0001,\n",
    "}"
   ]
  },
  {
   "cell_type": "code",
   "execution_count": 10,
   "metadata": {},
   "outputs": [
    {
     "name": "stdout",
     "output_type": "stream",
     "text": [
      "CPU times: user 26.7 s, sys: 581 ms, total: 27.2 s\n",
      "Wall time: 27.2 s\n"
     ]
    },
    {
     "data": {
      "text/plain": [
       "Pipeline(steps=[('vec',\n",
       "                 CountVectorizer(max_df=0.5, min_df=0.0001, ngram_range=(1, 2),\n",
       "                                 preprocessor=<function <lambda> at 0x7f894e4e1b70>,\n",
       "                                 tokenizer=<function <lambda> at 0x7f8bbd15ab70>)),\n",
       "                ('tfidf', TfidfTransformer(sublinear_tf=True)),\n",
       "                ('clf',\n",
       "                 CalibratedClassifierCV(base_estimator=SGDClassifier(alpha=5.3e-06),\n",
       "                                        cv=5, method='isotonic'))])"
      ]
     },
     "execution_count": 10,
     "metadata": {},
     "output_type": "execute_result"
    }
   ],
   "source": [
    "%%time\n",
    "\n",
    "pipe.set_params(**best_params)\n",
    "\n",
    "pipe.fit(X_train, y_train)"
   ]
  },
  {
   "cell_type": "code",
   "execution_count": null,
   "metadata": {},
   "outputs": [],
   "source": []
  },
  {
   "cell_type": "markdown",
   "metadata": {},
   "source": [
    "Double check performance..."
   ]
  },
  {
   "cell_type": "code",
   "execution_count": 11,
   "metadata": {},
   "outputs": [
    {
     "name": "stdout",
     "output_type": "stream",
     "text": [
      "CPU times: user 35.3 s, sys: 140 ms, total: 35.5 s\n",
      "Wall time: 35.5 s\n"
     ]
    }
   ],
   "source": [
    "%%time\n",
    "\n",
    "y_train_pred = pipe.predict(X_train)\n",
    "y_train_pred_proba = pipe.predict_proba(X_train)"
   ]
  },
  {
   "cell_type": "code",
   "execution_count": 12,
   "metadata": {},
   "outputs": [
    {
     "name": "stdout",
     "output_type": "stream",
     "text": [
      "              precision    recall  f1-score   support\n",
      "\n",
      "    negative       0.93      0.92      0.92     33020\n",
      "    positive       0.99      0.99      0.99    298167\n",
      "\n",
      "    accuracy                           0.98    331187\n",
      "   macro avg       0.96      0.96      0.96    331187\n",
      "weighted avg       0.98      0.98      0.98    331187\n",
      "\n"
     ]
    }
   ],
   "source": [
    "from sklearn.metrics import classification_report\n",
    "\n",
    "report = classification_report(y_train, y_train_pred)\n",
    "print(report)"
   ]
  },
  {
   "cell_type": "code",
   "execution_count": 13,
   "metadata": {},
   "outputs": [
    {
     "name": "stdout",
     "output_type": "stream",
     "text": [
      "[0.9830511 0.0169489] negative text_original            Dieser Arzt ist das unmöglichste was mir in me...\n",
      "rating                                                                   6\n",
      "text                     Dieser Arzt ist das unmöglichste was mir in me...\n",
      "label                                                             positive\n",
      "sentiment                                                                1\n",
      "token_clean              [dieser, arzt, ist, das, unmöglichste, was, mi...\n",
      "text_clean               dieser arzt ist das unmöglichste was mir in me...\n",
      "token_lemma              [arzt, unmöglichste, leben, je, begegnen, unfr...\n",
      "token_stem               [arzt, unmog, leb, je, begegnet, unfreund, ,, ...\n",
      "token_clean_stopwords    [arzt, unmöglichste, leben, je, begegnet, unfr...\n",
      "wrong_label                                                              1\n",
      "Name: 1, dtype: object\n",
      "[0.98950532 0.01049468] negative text_original            Eine sehr unfreundliche Ärztin, so etwas habe ...\n",
      "rating                                                                   6\n",
      "text                     Eine sehr unfreundliche Ärztin, so etwas habe ...\n",
      "label                                                             positive\n",
      "sentiment                                                                1\n",
      "token_clean              [eine, sehr, unfreundliche, ärztin, ,, so, etw...\n",
      "text_clean               eine sehr unfreundliche ärztin , so etwas habe...\n",
      "token_lemma              [unfreundlich, ärztin, nicht, erleben, geld, s...\n",
      "token_stem               [unfreund, arztin, ,, nicht, erlebt, ,, sei, g...\n",
      "token_clean_stopwords    [unfreundliche, ärztin, ,, nicht, erlebt, ,, s...\n",
      "wrong_label                                                              1\n",
      "Name: 19, dtype: object\n"
     ]
    }
   ],
   "source": [
    "print(y_train_pred_proba[1], y_train_pred[1], data.iloc[1])\n",
    "print(y_train_pred_proba[19], y_train_pred[19], data.iloc[19])"
   ]
  },
  {
   "cell_type": "code",
   "execution_count": null,
   "metadata": {},
   "outputs": [],
   "source": []
  },
  {
   "cell_type": "code",
   "execution_count": 14,
   "metadata": {},
   "outputs": [],
   "source": [
    "%%capture\n",
    "\n",
    "!pip install cleanlab"
   ]
  },
  {
   "cell_type": "code",
   "execution_count": 15,
   "metadata": {},
   "outputs": [],
   "source": [
    "from sklearn.preprocessing import LabelEncoder\n",
    "\n",
    "lb = LabelEncoder()\n",
    "y = lb.fit_transform(data[\"label\"])"
   ]
  },
  {
   "cell_type": "code",
   "execution_count": 16,
   "metadata": {},
   "outputs": [],
   "source": [
    "from cleanlab.latent_estimation import estimate_py_noise_matrices_and_cv_pred_proba\n",
    "from cleanlab.pruning import get_noise_indices\n",
    "\n",
    "predicted_label_errors = get_noise_indices(\n",
    "    s=y,\n",
    "    psx=y_train_pred_proba,\n",
    "    #sorted_index_method='normalized_margin', # Orders label errors\n",
    ")\n",
    "predicted_label_error_indices = np.argwhere(predicted_label_errors==True)"
   ]
  },
  {
   "cell_type": "code",
   "execution_count": 17,
   "metadata": {},
   "outputs": [
    {
     "name": "stdout",
     "output_type": "stream",
     "text": [
      "991 label errors were predicted\n"
     ]
    }
   ],
   "source": [
    "print(\"{} label errors were predicted\".format(len(predicted_label_error_indices)))"
   ]
  },
  {
   "cell_type": "code",
   "execution_count": 18,
   "metadata": {},
   "outputs": [
    {
     "data": {
      "text/html": [
       "<div>\n",
       "<style scoped>\n",
       "    .dataframe tbody tr th:only-of-type {\n",
       "        vertical-align: middle;\n",
       "    }\n",
       "\n",
       "    .dataframe tbody tr th {\n",
       "        vertical-align: top;\n",
       "    }\n",
       "\n",
       "    .dataframe thead th {\n",
       "        text-align: right;\n",
       "    }\n",
       "</style>\n",
       "<table border=\"1\" class=\"dataframe\">\n",
       "  <thead>\n",
       "    <tr style=\"text-align: right;\">\n",
       "      <th></th>\n",
       "      <th>text_clean</th>\n",
       "      <th>rating</th>\n",
       "      <th>label</th>\n",
       "      <th>sentiment</th>\n",
       "    </tr>\n",
       "  </thead>\n",
       "  <tbody>\n",
       "    <tr>\n",
       "      <th>1</th>\n",
       "      <td>dieser arzt ist das unmöglichste was mir in meinem leben je begegnet ist er ist unfreundlich , sehr herablassend und medizinisch unkompetent nach seiner diagnose bin ich zu einem anderen hautarzt gegangen der mich ordentlich behandelt hat und mir auch half meine beschweerden hatten einen völlig anderen grund . nach seiner behandlung und diagnose , waren seine letzten worte ..... und tschüss alles inerhalb von ca minuten .</td>\n",
       "      <td>6.0</td>\n",
       "      <td>positive</td>\n",
       "      <td>1</td>\n",
       "    </tr>\n",
       "    <tr>\n",
       "      <th>19</th>\n",
       "      <td>eine sehr unfreundliche ärztin , so etwas habe ich noch nicht erlebt , es sei denn das geld stimmt . sie kann garnicht mit menschen umgehen , dann verstehe ich echt nicht wie so ein mensch sich so einen beruf aussucht , fragen beantwortet sie sehr knapp . sehr arrogant ! ! !</td>\n",
       "      <td>6.0</td>\n",
       "      <td>positive</td>\n",
       "      <td>1</td>\n",
       "    </tr>\n",
       "    <tr>\n",
       "      <th>315</th>\n",
       "      <td>nimmt sich keine zeit , man hat fast keine möglichkeit seine beschwerden zu äussern</td>\n",
       "      <td>5.0</td>\n",
       "      <td>negative</td>\n",
       "      <td>-1</td>\n",
       "    </tr>\n",
       "    <tr>\n",
       "      <th>527</th>\n",
       "      <td>also der arzt erschien mir sehr freundlich und kompetent . jedoch gab es heute eine sprechstundenhilfe , welche sich meiner meinung nach völlig unfreundlich verhalten hat . sie war unsensibel und patzig . man hat ihr angemerkt , dass sie keine lust mehr hatte . und das hat sie mir gegenüber deutlich gezeigt . wenn man sowieso schon starke schmerzen hat , möchte man doch wenigstens freundlich behandelt werden und erwartet eine sensible begegnung sie hat mich heut geröntgt . aber wie gesagt . ...</td>\n",
       "      <td>2.0</td>\n",
       "      <td>positive</td>\n",
       "      <td>1</td>\n",
       "    </tr>\n",
       "    <tr>\n",
       "      <th>766</th>\n",
       "      <td>ich litt jahre an einem rätselhaften juckreiz , der mich dazu zwang mich mehrfach täglich an einer bestimmten stelle blutig zu kratzen . im laufe dieser jahre habe ich etliche kassendermatologen im kreis heinsberg aufgesucht . einer war unfähig , der andere hatte komplettes desinteresse , der dritte wiederum tappte schon einmal in die richtige richtung alle diese ärzte hatten die gleichen informationen bekommen wie dr. roesener . keiner der ärzte hat mir auch nur ansatzweise linderung versch...</td>\n",
       "      <td>1.0</td>\n",
       "      <td>positive</td>\n",
       "      <td>1</td>\n",
       "    </tr>\n",
       "    <tr>\n",
       "      <th>...</th>\n",
       "      <td>...</td>\n",
       "      <td>...</td>\n",
       "      <td>...</td>\n",
       "      <td>...</td>\n",
       "    </tr>\n",
       "    <tr>\n",
       "      <th>355057</th>\n",
       "      <td>seit jahren die hausärztin von meiner frau und mir . kompetent , freundlich und den anliegen der patienten immer zugewandt . wir möchten sie nicht mehr missen . auch die arzthelferin ist sehr freundlich und hilfsbereit .</td>\n",
       "      <td>6.0</td>\n",
       "      <td>negative</td>\n",
       "      <td>-1</td>\n",
       "    </tr>\n",
       "    <tr>\n",
       "      <th>356792</th>\n",
       "      <td>unglaublich ! ich hatte die schlechten rezensionen auf jameda gelesen , aber dachte mir ich mache mir mein eigenes bild . völlig abgehoben und nimmt einen nicht ernst . hauptsache pille verschreiben wollen , auf die antwort das ich keine pille möchte , kam die aussage das ich dann doch zu einem psychiater gehen soll .</td>\n",
       "      <td>1.0</td>\n",
       "      <td>positive</td>\n",
       "      <td>1</td>\n",
       "    </tr>\n",
       "    <tr>\n",
       "      <th>356885</th>\n",
       "      <td>was wünscht man sich bei einem arztbesuch ? sicher die möglichkeit , das anliegen beschreiben zu können . vielleicht etwas empathie . was nicht ? arrogant belehrt zu werden . kein wort dazwischen zu kriegen . eine riesige liste von abrechenbaren leistungen aufgetischt zu bekommen , die in keinerlei beziehung zum anliegen stehen . dieses unwürdige schauspiel wird aufgeführt vor dem hintergrund einer aufklärungsfeindlichen und unhaltbaren quacksalberei hinsichtlich akupunktur und anderen prakt...</td>\n",
       "      <td>1.0</td>\n",
       "      <td>positive</td>\n",
       "      <td>1</td>\n",
       "    </tr>\n",
       "    <tr>\n",
       "      <th>357274</th>\n",
       "      <td>plötzlich starke erkältung . morgens um angerufen , sollte um kommen . mit rezept und krankschreibung wieder draußen .</td>\n",
       "      <td>2.0</td>\n",
       "      <td>positive</td>\n",
       "      <td>1</td>\n",
       "    </tr>\n",
       "    <tr>\n",
       "      <th>357736</th>\n",
       "      <td>ich bin schon mit starken schmerzen abgewimmelt worden . obwohl ich an nächsten tag in urlaub flog wurde mir nicht geholfen . bin ich mit der aussage ich solle ins krankenhaus gehen , praxis wäre voll und wir haben nur bis mittags geöffnet , weg geschickt . das . mal das gleiche obwohl ich dort patient bin . ich bin auch in einer arztpraxis tätig . im notfall helfen wir unseren patienten immer . daher kann ich diese praxis nicht mehr empfehlen , denn der feierabend ist wichtiger !</td>\n",
       "      <td>2.0</td>\n",
       "      <td>positive</td>\n",
       "      <td>1</td>\n",
       "    </tr>\n",
       "  </tbody>\n",
       "</table>\n",
       "<p>991 rows × 4 columns</p>\n",
       "</div>"
      ],
      "text/plain": [
       "                                                                                                                                                                                                                                                                                                                                                                                                                                                                                                                 text_clean  \\\n",
       "1                                                                                 dieser arzt ist das unmöglichste was mir in meinem leben je begegnet ist er ist unfreundlich , sehr herablassend und medizinisch unkompetent nach seiner diagnose bin ich zu einem anderen hautarzt gegangen der mich ordentlich behandelt hat und mir auch half meine beschweerden hatten einen völlig anderen grund . nach seiner behandlung und diagnose , waren seine letzten worte ..... und tschüss alles inerhalb von ca minuten .   \n",
       "19                                                                                                                                                                                                                                      eine sehr unfreundliche ärztin , so etwas habe ich noch nicht erlebt , es sei denn das geld stimmt . sie kann garnicht mit menschen umgehen , dann verstehe ich echt nicht wie so ein mensch sich so einen beruf aussucht , fragen beantwortet sie sehr knapp . sehr arrogant ! ! !   \n",
       "315                                                                                                                                                                                                                                                                                                                                                                                                                                     nimmt sich keine zeit , man hat fast keine möglichkeit seine beschwerden zu äussern   \n",
       "527     also der arzt erschien mir sehr freundlich und kompetent . jedoch gab es heute eine sprechstundenhilfe , welche sich meiner meinung nach völlig unfreundlich verhalten hat . sie war unsensibel und patzig . man hat ihr angemerkt , dass sie keine lust mehr hatte . und das hat sie mir gegenüber deutlich gezeigt . wenn man sowieso schon starke schmerzen hat , möchte man doch wenigstens freundlich behandelt werden und erwartet eine sensible begegnung sie hat mich heut geröntgt . aber wie gesagt . ...   \n",
       "766     ich litt jahre an einem rätselhaften juckreiz , der mich dazu zwang mich mehrfach täglich an einer bestimmten stelle blutig zu kratzen . im laufe dieser jahre habe ich etliche kassendermatologen im kreis heinsberg aufgesucht . einer war unfähig , der andere hatte komplettes desinteresse , der dritte wiederum tappte schon einmal in die richtige richtung alle diese ärzte hatten die gleichen informationen bekommen wie dr. roesener . keiner der ärzte hat mir auch nur ansatzweise linderung versch...   \n",
       "...                                                                                                                                                                                                                                                                                                                                                                                                                                                                                                                     ...   \n",
       "355057                                                                                                                                                                                                                                                                                         seit jahren die hausärztin von meiner frau und mir . kompetent , freundlich und den anliegen der patienten immer zugewandt . wir möchten sie nicht mehr missen . auch die arzthelferin ist sehr freundlich und hilfsbereit .   \n",
       "356792                                                                                                                                                                                      unglaublich ! ich hatte die schlechten rezensionen auf jameda gelesen , aber dachte mir ich mache mir mein eigenes bild . völlig abgehoben und nimmt einen nicht ernst . hauptsache pille verschreiben wollen , auf die antwort das ich keine pille möchte , kam die aussage das ich dann doch zu einem psychiater gehen soll .   \n",
       "356885  was wünscht man sich bei einem arztbesuch ? sicher die möglichkeit , das anliegen beschreiben zu können . vielleicht etwas empathie . was nicht ? arrogant belehrt zu werden . kein wort dazwischen zu kriegen . eine riesige liste von abrechenbaren leistungen aufgetischt zu bekommen , die in keinerlei beziehung zum anliegen stehen . dieses unwürdige schauspiel wird aufgeführt vor dem hintergrund einer aufklärungsfeindlichen und unhaltbaren quacksalberei hinsichtlich akupunktur und anderen prakt...   \n",
       "357274                                                                                                                                                                                                                                                                                                                                                                                               plötzlich starke erkältung . morgens um angerufen , sollte um kommen . mit rezept und krankschreibung wieder draußen .   \n",
       "357736                ich bin schon mit starken schmerzen abgewimmelt worden . obwohl ich an nächsten tag in urlaub flog wurde mir nicht geholfen . bin ich mit der aussage ich solle ins krankenhaus gehen , praxis wäre voll und wir haben nur bis mittags geöffnet , weg geschickt . das . mal das gleiche obwohl ich dort patient bin . ich bin auch in einer arztpraxis tätig . im notfall helfen wir unseren patienten immer . daher kann ich diese praxis nicht mehr empfehlen , denn der feierabend ist wichtiger !   \n",
       "\n",
       "        rating     label  sentiment  \n",
       "1          6.0  positive          1  \n",
       "19         6.0  positive          1  \n",
       "315        5.0  negative         -1  \n",
       "527        2.0  positive          1  \n",
       "766        1.0  positive          1  \n",
       "...        ...       ...        ...  \n",
       "355057     6.0  negative         -1  \n",
       "356792     1.0  positive          1  \n",
       "356885     1.0  positive          1  \n",
       "357274     2.0  positive          1  \n",
       "357736     2.0  positive          1  \n",
       "\n",
       "[991 rows x 4 columns]"
      ]
     },
     "execution_count": 18,
     "metadata": {},
     "output_type": "execute_result"
    }
   ],
   "source": [
    "pd.options.display.max_colwidth = 500\n",
    "outlier = data[predicted_label_errors]\n",
    "outlier[[\"text_clean\", \"rating\", \"label\", \"sentiment\"]]"
   ]
  },
  {
   "cell_type": "markdown",
   "metadata": {},
   "source": [
    "**The algorithm successfully identified 1 and 19 (the ones deliberately set to the wrong sentiment).** \n",
    "\n",
    "It also seems that there are a few more examples (e.g. 355057, 356792, 356885 and more) where the rating seems to be wrong (which seems to be unintuitive since usually a high number (more stars) refers to a good review whereas a low number (less stars) refers to a bad review (whereas here >=5 means bad and <=2 means good). Consequently, there still seems to be room for further improvements..."
   ]
  },
  {
   "cell_type": "code",
   "execution_count": null,
   "metadata": {},
   "outputs": [],
   "source": []
  }
 ],
 "metadata": {
  "kernelspec": {
   "display_name": "Python 3",
   "language": "python",
   "name": "python3"
  },
  "language_info": {
   "codemirror_mode": {
    "name": "ipython",
    "version": 3
   },
   "file_extension": ".py",
   "mimetype": "text/x-python",
   "name": "python",
   "nbconvert_exporter": "python",
   "pygments_lexer": "ipython3",
   "version": "3.6.9"
  }
 },
 "nbformat": 4,
 "nbformat_minor": 2
}
